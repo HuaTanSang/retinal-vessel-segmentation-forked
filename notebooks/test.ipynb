{
 "cells": [
  {
   "cell_type": "code",
   "execution_count": 7,
   "id": "03dbe8e2",
   "metadata": {},
   "outputs": [],
   "source": [
    "from PIL import Image \n",
    "import numpy as np "
   ]
  },
  {
   "cell_type": "code",
   "execution_count": 8,
   "id": "055c9d45",
   "metadata": {},
   "outputs": [],
   "source": [
    "img = Image.open(\"/home/huatansang/Documents/retinal-vessel-segmentation-forked/data/DRIVE/training/images/21_training.tif\")"
   ]
  },
  {
   "cell_type": "code",
   "execution_count": 11,
   "id": "74b32f1e",
   "metadata": {},
   "outputs": [
    {
     "name": "stdout",
     "output_type": "stream",
     "text": [
      "(584, 565, 3)\n"
     ]
    }
   ],
   "source": [
    "np_img = np.array(img)\n",
    "print(np_img.shape)"
   ]
  }
 ],
 "metadata": {
  "kernelspec": {
   "display_name": "myenv",
   "language": "python",
   "name": "python3"
  },
  "language_info": {
   "codemirror_mode": {
    "name": "ipython",
    "version": 3
   },
   "file_extension": ".py",
   "mimetype": "text/x-python",
   "name": "python",
   "nbconvert_exporter": "python",
   "pygments_lexer": "ipython3",
   "version": "3.10.16"
  }
 },
 "nbformat": 4,
 "nbformat_minor": 5
}
